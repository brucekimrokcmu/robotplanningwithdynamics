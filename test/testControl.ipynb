{
  "cells": [
    {
      "cell_type": "code",
      "execution_count": 2,
      "metadata": {},
      "outputs": [
        {
          "ename": "ValueError",
          "evalue": "not enough values to unpack (expected 5, got 4)",
          "output_type": "error",
          "traceback": [
            "\u001b[0;31m---------------------------------------------------------------------------\u001b[0m",
            "\u001b[0;31mValueError\u001b[0m                                Traceback (most recent call last)",
            "Cell \u001b[0;32mIn[2], line 10\u001b[0m\n\u001b[1;32m      8\u001b[0m     cars \u001b[39m=\u001b[39m []\n\u001b[1;32m      9\u001b[0m     \u001b[39mfor\u001b[39;00m line \u001b[39min\u001b[39;00m f\u001b[39m.\u001b[39mreadlines():\n\u001b[0;32m---> 10\u001b[0m         x, y, theta, v, phi \u001b[39m=\u001b[39m \u001b[39mmap\u001b[39m(\u001b[39mfloat\u001b[39m, line\u001b[39m.\u001b[39mstrip()\u001b[39m.\u001b[39msplit(\u001b[39m'\u001b[39m\u001b[39m,\u001b[39m\u001b[39m'\u001b[39m)[:\u001b[39m-\u001b[39m\u001b[39m1\u001b[39m])\n\u001b[1;32m     11\u001b[0m         cars\u001b[39m.\u001b[39mappend((x, y, theta, v, phi))\n\u001b[1;32m     13\u001b[0m \u001b[39m# Create a figure and axis object\u001b[39;00m\n",
            "\u001b[0;31mValueError\u001b[0m: not enough values to unpack (expected 5, got 4)"
          ]
        }
      ],
      "source": [
        "import matplotlib.pyplot as plt\n",
        "\n",
        "# Open the text file\n",
        "with open('../testControl.txt', 'r') as f:\n",
        "    # read name\n",
        "    \n",
        "    # read cars\n",
        "    cars = []\n",
        "    for line in f.readlines():\n",
        "        x, y, theta, v, phi = map(float, line.strip().split(','))\n",
        "        cars.append((x, y, theta, v, phi))\n",
        "\n",
        "# Create a figure and axis object\n",
        "fig, ax = plt.subplots()\n",
        "\n",
        "# Draw each rectangle on the axis\n",
        "count = 1\n",
        "for car in cars:\n",
        "    x, y, theta, v, phi = car\n",
        "    ax.add_patch(\n",
        "        plt.Rectangle((x, y), 0.5, 1, angle= theta/3.14 * 180 , alpha=1, edgecolor='black')\n",
        "    )\n",
        "    count += 1\n",
        "\n",
        "# Set the axis limits and labels\n",
        "ax.set_xlim(-5, 5)\n",
        "ax.set_ylim(-5, 5)\n",
        "ax.set_xlabel('X-axis')\n",
        "ax.set_ylabel('Y-axis')\n",
        "\n",
        "# Show the plot\n",
        "plt.show()\n"
      ]
    }
  ],
  "metadata": {
    "kernelspec": {
      "display_name": "Python 3",
      "language": "python",
      "name": "python3"
    },
    "language_info": {
      "codemirror_mode": {
        "name": "ipython",
        "version": 3
      },
      "file_extension": ".py",
      "mimetype": "text/x-python",
      "name": "python",
      "nbconvert_exporter": "python",
      "pygments_lexer": "ipython3",
      "version": "3.8.10"
    },
    "orig_nbformat": 4
  },
  "nbformat": 4,
  "nbformat_minor": 2
}
