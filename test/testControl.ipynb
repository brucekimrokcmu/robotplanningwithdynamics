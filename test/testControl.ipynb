{
 "cells": [
  {
   "cell_type": "code",
   "execution_count": null,
   "metadata": {},
   "outputs": [],
   "source": [
    "import matplotlib.pyplot as plt\n",
    "\n",
    "# Open the text file\n",
    "with open('../testControl.txt', 'r') as f:\n",
    "    # read name\n",
    "    \n",
    "    # read cars\n",
    "    cars = []\n",
    "    for line in f.readlines():\n",
    "        x, y, theta, v, phi = map(float, line.strip().split(','))\n",
    "        cars.append((x, y, theta, v, phi))\n",
    "\n",
    "# Create a figure and axis object\n",
    "fig, ax = plt.subplots()\n",
    "\n",
    "# Draw each rectangle on the axis\n",
    "count = 1\n",
    "for car in cars:\n",
    "    x, y, theta, v, phi = car\n",
    "    ax.add_patch(\n",
    "        plt.Rectangle((x, y), 1, 0.5, angle= theta/3.14 * 180 , alpha=1, edgecolor='black')\n",
    "    )\n",
    "    count += 1\n",
    "\n",
    "# Set the axis limits and labels\n",
    "ax.set_xlim(-5, 10)\n",
    "ax.set_ylim(-5, 10)\n",
    "ax.set_xlabel('X-axis')\n",
    "ax.set_ylabel('Y-axis')\n",
    "\n",
    "# Show the plot\n",
    "plt.show()"
   ]
  }
 ],
 "metadata": {
  "kernelspec": {
   "display_name": "Python 3",
   "language": "python",
   "name": "python3"
  },
  "language_info": {
   "name": "python",
   "version": "3.8.10"
  },
  "orig_nbformat": 4
 },
 "nbformat": 4,
 "nbformat_minor": 2
}
