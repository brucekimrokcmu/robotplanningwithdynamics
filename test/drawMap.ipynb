{
 "cells": [
  {
   "cell_type": "code",
   "execution_count": 21,
   "metadata": {},
   "outputs": [
    {
     "data": {
      "image/png": "[encoded data removed]",
      "text/plain": [
       "<Figure size 640x480 with 1 Axes>"
      ]
     },
     "metadata": {},
     "output_type": "display_data"
    }
   ],
   "source": [
    "import matplotlib.pyplot as plt\n",
    "\n",
    "# Open the text file\n",
    "with open('../output.txt', 'r') as f:\n",
    "    name = f.readline()\n",
    "    obs_num = int(f.readline())\n",
    "    obstacles = []\n",
    "    for i in range(obs_num):\n",
    "        line = f.readline()\n",
    "        x, x_extent, y, y_extent = map(float, line.strip().split(',')[:-1])\n",
    "        obstacles.append((x, x_extent, y, y_extent))\n",
    "    # Read the lines and parse the rectangle coordinates\n",
    "    rectangles = []\n",
    "    for line in f.readlines():\n",
    "        if line.strip():\n",
    "            x, x_extent, y, y_extent, h_value = map(float, line.strip().split(',')[:-1])\n",
    "            rectangles.append((x, x_extent, y, y_extent, h_value))\n",
    "\n",
    "# Create a figure and axis object\n",
    "fig, ax = plt.subplots()\n",
    "\n",
    "# Draw each rectangle on the axis\n",
    "for rect in rectangles:\n",
    "    x, x_extent, y, y_extent, h_value = rect\n",
    "    try:\n",
    "        ax.add_patch(\n",
    "            plt.Rectangle((x, y), x_extent, y_extent, alpha=h_value/10, edgecolor='black')\n",
    "        )\n",
    "    except ValueError:\n",
    "        ax.add_patch(\n",
    "            plt.Rectangle((x, y), x_extent, y_extent, alpha=1, edgecolor='black')\n",
    "        )\n",
    "\n",
    "for obs in obstacles:\n",
    "    x, x_extent, y, y_extent = obs\n",
    "    ax.add_patch(\n",
    "        plt.Rectangle((x, y), x_extent, y_extent, alpha=0.5, facecolor='red')\n",
    "    )\n",
    "\n",
    "# Set the axis limits and labels\n",
    "ax.set_xlim(0, 10)\n",
    "ax.set_ylim(0, 10)\n",
    "ax.set_xlabel('X-axis')\n",
    "ax.set_ylabel('Y-axis')\n",
    "\n",
    "# Show the plot\n",
    "plt.show()\n"
   ]
  }
 ],
 "metadata": {
  "kernelspec": {
   "display_name": "Python 3",
   "language": "python",
   "name": "python3"
  },
  "language_info": {
   "codemirror_mode": {
    "name": "ipython",
    "version": 3
   },
   "file_extension": ".py",
   "mimetype": "text/x-python",
   "name": "python",
   "nbconvert_exporter": "python",
   "pygments_lexer": "ipython3",
   "version": "3.8.10"
  },
  "orig_nbformat": 4
 },
 "nbformat": 4,
 "nbformat_minor": 2
}
