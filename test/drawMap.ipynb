{
  "cells": [
    {
      "cell_type": "code",
      "execution_count": 3,
      "metadata": {},
      "outputs": [
        {
          "ename": "ValueError",
          "evalue": "not enough values to unpack (expected 5, got 2)",
          "output_type": "error",
          "traceback": [
            "\u001b[0;31m---------------------------------------------------------------------------\u001b[0m",
            "\u001b[0;31mValueError\u001b[0m                                Traceback (most recent call last)",
            "Cell \u001b[0;32mIn[3], line 25\u001b[0m\n\u001b[1;32m     23\u001b[0m \u001b[39mwhile\u001b[39;00m \u001b[39mTrue\u001b[39;00m:\n\u001b[1;32m     24\u001b[0m     \u001b[39mif\u001b[39;00m (line \u001b[39m:=\u001b[39m f\u001b[39m.\u001b[39mreadline()) \u001b[39m==\u001b[39m \u001b[39m\"\u001b[39m\u001b[39m\\n\u001b[39;00m\u001b[39m\"\u001b[39m: \u001b[39mbreak\u001b[39;00m\n\u001b[0;32m---> 25\u001b[0m     x, y, v, theta, phi \u001b[39m=\u001b[39m \u001b[39mmap\u001b[39m(\u001b[39mfloat\u001b[39m, line\u001b[39m.\u001b[39mstrip()\u001b[39m.\u001b[39msplit(\u001b[39m'\u001b[39m\u001b[39m,\u001b[39m\u001b[39m'\u001b[39m)[:\u001b[39m-\u001b[39m\u001b[39m1\u001b[39m])\n\u001b[1;32m     26\u001b[0m     dots\u001b[39m.\u001b[39mappend((x,y))\n\u001b[1;32m     28\u001b[0m nodes \u001b[39m=\u001b[39m []\n",
            "\u001b[0;31mValueError\u001b[0m: not enough values to unpack (expected 5, got 2)"
          ]
        }
      ],
      "source": [
        "import matplotlib.pyplot as plt\n",
        "\n",
        "# Open the text file\n",
        "with open('../output.txt', 'r') as f:\n",
        "    # read name\n",
        "    name = f.readline()\n",
        "    \n",
        "    # read obstacles\n",
        "    obstacles = []\n",
        "    while True:\n",
        "        if (line := f.readline()) == \"\\n\": break\n",
        "        x, y, x_extent, y_extent = map(float, line.strip().split(',')[:-1])\n",
        "        obstacles.append((x, y, x_extent, y_extent))\n",
        "    \n",
        "    # read rectangles\n",
        "    rectangles = []\n",
        "    while True:\n",
        "        if (line := f.readline()) == \"\\n\": break\n",
        "        x, x_extent, y, y_extent, h_value = map(float, line.strip().split(',')[:-1])\n",
        "        rectangles.append((x, x_extent, y, y_extent, h_value))\n",
        "    \n",
        "    dots = []\n",
        "    while True:\n",
        "        if (line := f.readline()) == \"\\n\": break\n",
        "        x, y = map(float, line.strip().split(',')[:-1])\n",
        "        dots.append((x,y))\n",
        "    \n",
        "    nodes = []\n",
        "    for line in f.readlines():\n",
        "        x, y = map(float, line.strip().split(',')[:-1])\n",
        "        nodes.append((x,y))\n",
        "\n",
        "# Create a figure and axis object\n",
        "fig, ax = plt.subplots()\n",
        "\n",
        "# Draw each rectangle on the axis\n",
        "for rect in rectangles:\n",
        "    x, x_extent, y, y_extent, h_value = rect\n",
        "    try:\n",
        "        ax.add_patch(\n",
        "            plt.Rectangle((x, y), x_extent, y_extent, alpha=h_value/10, edgecolor='black')\n",
        "        )\n",
        "    except ValueError:\n",
        "        ax.add_patch(\n",
        "            plt.Rectangle((x, y), x_extent, y_extent, alpha=1, edgecolor='black')\n",
        "        )\n",
        "\n",
        "for obs in obstacles:\n",
        "    x, y, x_extent, y_extent = obs\n",
        "    ax.add_patch(\n",
        "        plt.Rectangle((x, y), x_extent, y_extent, alpha=0.5, facecolor='red')\n",
        "    )\n",
        "\n",
        "for dot in dots:\n",
        "    x, y = dot\n",
        "    ax.add_patch(\n",
        "        plt.Circle((x, y), 0.08, color='red')\n",
        "    )\n",
        "\n",
        "for node in nodes:\n",
        "    x, y = node\n",
        "    ax.add_patch(\n",
        "        plt.Circle((x, y), 0.02, color='yellow')\n",
        "    )\n",
        "\n",
        "# Set the axis limits and labels\n",
        "ax.set_xlim(0, 20)\n",
        "ax.set_ylim(0, 20)\n",
        "ax.set_xlabel('X-axis')\n",
        "ax.set_ylabel('Y-axis')\n",
        "\n",
        "# Show the plot\n",
        "plt.show()\n"
      ]
    }
  ],
  "metadata": {
    "kernelspec": {
      "display_name": "Python 3",
      "language": "python",
      "name": "python3"
    },
    "language_info": {
      "codemirror_mode": {
        "name": "ipython",
        "version": 3
      },
      "file_extension": ".py",
      "mimetype": "text/x-python",
      "name": "python",
      "nbconvert_exporter": "python",
      "pygments_lexer": "ipython3",
      "version": "3.8.10"
    },
    "orig_nbformat": 4
  },
  "nbformat": 4,
  "nbformat_minor": 2
}
