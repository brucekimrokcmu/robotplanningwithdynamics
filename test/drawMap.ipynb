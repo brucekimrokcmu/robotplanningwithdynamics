{
  "cells": [
    {
      "cell_type": "code",
      "execution_count": 13,
      "metadata": {},
      "outputs": [
        {
          "data": {
            "image/png": "[encoded data removed]",
            "text/plain": [
              "<Figure size 432x288 with 1 Axes>"
            ]
          },
          "metadata": {
            "needs_background": "light"
          },
          "output_type": "display_data"
        }
      ],
      "source": [
        "import matplotlib.pyplot as plt\n",
        "\n",
        "# Open the text file\n",
        "with open('../output.txt', 'r') as f:\n",
        "    # read name\n",
        "    name = f.readline()\n",
        "    \n",
        "    # read obstacles\n",
        "    obstacles = []\n",
        "    while True:\n",
        "        if (line := f.readline()) == \"\\n\": break\n",
        "        x, y, x_extent, y_extent = map(float, line.strip().split(',')[:-1])\n",
        "        obstacles.append((x, y, x_extent, y_extent))\n",
        "    \n",
        "    # read rectangles\n",
        "    rectangles = []\n",
        "    while True:\n",
        "        if (line := f.readline()) == \"\\n\": break\n",
        "        x, x_extent, y, y_extent, h_value = map(float, line.strip().split(',')[:-1])\n",
        "        rectangles.append((x, x_extent, y, y_extent, h_value))\n",
        "    \n",
        "    dots = []\n",
        "    while True:\n",
        "        if (line := f.readline()) == \"\\n\": break\n",
        "        x, y = map(float, line.strip().split(',')[:-1])\n",
        "        dots.append((x,y))\n",
        "    \n",
        "    nodes = []\n",
        "    for line in f.readlines():\n",
        "        x, y = map(float, line.strip().split(',')[:-1])\n",
        "        nodes.append((x,y))\n",
        "\n",
        "# Create a figure and axis object\n",
        "fig, ax = plt.subplots()\n",
        "\n",
        "# Draw each rectangle on the axis\n",
        "for rect in rectangles:\n",
        "    x, x_extent, y, y_extent, h_value = rect\n",
        "    try:\n",
        "        ax.add_patch(\n",
        "            plt.Rectangle((x, y), x_extent, y_extent, alpha=h_value/10, edgecolor='black')\n",
        "        )\n",
        "    except ValueError:\n",
        "        ax.add_patch(\n",
        "            plt.Rectangle((x, y), x_extent, y_extent, alpha=1, edgecolor='black')\n",
        "        )\n",
        "\n",
        "for obs in obstacles:\n",
        "    x, y, x_extent, y_extent = obs\n",
        "    ax.add_patch(\n",
        "        plt.Rectangle((x, y), x_extent, y_extent, alpha=0.5, facecolor='red')\n",
        "    )\n",
        "\n",
        "for dot in dots:\n",
        "    x, y = dot\n",
        "    ax.add_patch(\n",
        "        plt.Circle((x, y), 0.05, color='red')\n",
        "    )\n",
        "\n",
        "for node in nodes:\n",
        "    x, y = node\n",
        "    ax.add_patch(\n",
        "        plt.Circle((x, y), 0.03, color='yellow')\n",
        "    )\n",
        "\n",
        "# Set the axis limits and labels\n",
        "ax.set_xlim(0, 20)\n",
        "ax.set_ylim(0, 20)\n",
        "ax.set_xlabel('X-axis')\n",
        "ax.set_ylabel('Y-axis')\n",
        "\n",
        "# Show the plot\n",
        "plt.show()\n"
      ]
    }
  ],
  "metadata": {
    "kernelspec": {
      "display_name": "Python 3",
      "language": "python",
      "name": "python3"
    },
    "language_info": {
      "codemirror_mode": {
        "name": "ipython",
        "version": 3
      },
      "file_extension": ".py",
      "mimetype": "text/x-python",
      "name": "python",
      "nbconvert_exporter": "python",
      "pygments_lexer": "ipython3",
      "version": "3.8.10"
    },
    "orig_nbformat": 4
  },
  "nbformat": 4,
  "nbformat_minor": 2
}
